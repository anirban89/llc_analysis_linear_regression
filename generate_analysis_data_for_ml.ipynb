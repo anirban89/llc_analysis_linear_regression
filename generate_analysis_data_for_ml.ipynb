{
 "cells": [
  {
   "cell_type": "code",
   "execution_count": 1,
   "metadata": {
    "collapsed": true
   },
   "outputs": [],
   "source": [
    "import xarray as xr\n",
    "import numpy as np\n",
    "import xmitgcm\n",
    "from matplotlib import pyplot as plt\n",
    "import os\n",
    "from glob import glob\n",
    "%matplotlib inline\n",
    "from matplotlib.colors import LogNorm\n",
    "import dask\n",
    "from dask.diagnostics import ProgressBar\n",
    "from xgcm import Grid"
   ]
  },
  {
   "cell_type": "code",
   "execution_count": 2,
   "metadata": {
    "collapsed": true
   },
   "outputs": [],
   "source": [
    "plt.rcParams['figure.figsize'] = (15,10)\n",
    "\n",
    "plt.rcParams.update({'font.size': 18\n",
    "    , 'legend.markerscale': 1., 'axes.titlesize': 18, 'axes.labelsize' : 18,\n",
    "      'legend.fontsize' : 14,'legend.handlelength': 3})\n",
    "\n",
    "plt.rc('xtick', labelsize=14) \n",
    "plt.rc('ytick', labelsize=14)"
   ]
  },
  {
   "cell_type": "code",
   "execution_count": null,
   "metadata": {
    "collapsed": true
   },
   "outputs": [],
   "source": [
    "ddir = '/swot/SUM01/LLC/llc_4320_agulhas/'\n",
    "all_files = sorted(glob(os.path.join(ddir, 'llc_4320_agulhas.0*.nc')))\n",
    "print(len(all_files))\n",
    "all_files[0], all_files[-1]"
   ]
  },
  {
   "cell_type": "code",
   "execution_count": 4,
   "metadata": {
    "collapsed": true
   },
   "outputs": [],
   "source": [
    "ds = xr.open_mfdataset(all_files[:24*70], decode_cf=False, autoclose=True, chunks={'k': 1, 'k_l': 1, 'time': 1})\n",
    "#ds = xr.open_dataset(all_files[], decode_cf=False, chunks={'k': 1, 'k_l': 1})\n",
    "ds = ds.set_coords(['iter', 'face'])"
   ]
  },
  {
   "cell_type": "code",
   "execution_count": 5,
   "metadata": {},
   "outputs": [
    {
     "data": {
      "text/plain": [
       "<xgcm.Grid>\n",
       "Y Axis (not periodic):\n",
       "  * center   YC (680) --> left\n",
       "  * left     YG (680) --> center\n",
       "X Axis (not periodic):\n",
       "  * center   XC (480) --> left\n",
       "  * left     XG (480) --> center\n",
       "T Axis (not periodic):\n",
       "  * center   time (1680)"
      ]
     },
     "execution_count": 5,
     "metadata": {},
     "output_type": "execute_result"
    }
   ],
   "source": [
    "grid_ds = xr.open_dataset(ddir + 'llc_4320_agulhas_grid.nc')\n",
    "ds = xr.merge([grid_ds, ds])\n",
    "ds = xmitgcm.mds_store._swap_dimensions(ds, geometry='sphericalpolar')\n",
    "#ds_sec = ds.isel(YC = slice(1300,1500), YG = slice(1300,1500), XC = slice(1000,1200), XG = slice(1000,1200), Z=0, Zl=0,Zp1=0,Zu=0 )\n",
    "ds_sec = ds.isel(YC = slice(970,1650), XC = slice(985,1465), YG = slice(970,1650), XG = slice(985,1465), Z=0, Zl=0,Zp1=0,Zu=0  )\n",
    "ds = ds_sec\n",
    "\n",
    "grid = Grid(ds, periodic=False)\n",
    "grid"
   ]
  },
  {
   "cell_type": "code",
   "execution_count": 7,
   "metadata": {},
   "outputs": [
    {
     "data": {
      "text/plain": [
       "<xarray.Dataset>\n",
       "Dimensions:   (XC: 480, XG: 480, YC: 680, YG: 680, time: 1680)\n",
       "Coordinates:\n",
       "  * YC        (YC) float32 -45.047726 -45.033997 -45.020264 -45.006527 ...\n",
       "  * YG        (YG) float32 -45.054592 -45.040863 -45.02713 -45.013397 ...\n",
       "  * XC        (XC) float32 5.03125 5.0520835 5.0729165 5.09375 5.1145835 ...\n",
       "  * XG        (XG) float32 5.0208335 5.0416665 5.0625 5.0833335 5.1041665 ...\n",
       "    Zp1       float32 0.0\n",
       "    Z         float32 -0.5\n",
       "    Zl        float32 0.0\n",
       "    Zu        float32 -1.0\n",
       "  * time      (time) float64 2.592e+05 2.628e+05 2.664e+05 2.7e+05 2.736e+05 ...\n",
       "Data variables:\n",
       "    face      (time) int64 1 1 1 1 1 1 1 1 1 1 1 1 1 1 1 1 1 1 1 1 1 1 1 1 1 ...\n",
       "    rA        (YC, XC) float32 ...\n",
       "    rAw       (YC, XG) float32 ...\n",
       "    rAs       (YG, XC) float32 ...\n",
       "    rAz       (YG, XG) float32 ...\n",
       "    dxG       (YG, XC) float32 ...\n",
       "    dyG       (YC, XG) float32 ...\n",
       "    dxC       (YC, XG) float32 ...\n",
       "    Depth     (YC, XC) float32 ...\n",
       "    dyC       (YG, XC) float32 ...\n",
       "    PHrefF    float32 ...\n",
       "    drF       float32 ...\n",
       "    PHrefC    float32 ...\n",
       "    drC       float32 ...\n",
       "    hFacW     (YC, XG) float32 ...\n",
       "    hFacS     (YG, XC) float32 ...\n",
       "    hFacC     (YC, XC) float32 ...\n",
       "    Eta       (time, YC, XC) float32 dask.array<shape=(1680, 680, 480), chunksize=(1, 680, 480)>\n",
       "    PhiBot    (time, YC, XC) float32 dask.array<shape=(1680, 680, 480), chunksize=(1, 680, 480)>\n",
       "    SIarea    (time, YC, XC) float32 dask.array<shape=(1680, 680, 480), chunksize=(1, 680, 480)>\n",
       "    SIheff    (time, YC, XC) float32 dask.array<shape=(1680, 680, 480), chunksize=(1, 680, 480)>\n",
       "    SIhsalt   (time, YC, XC) float32 dask.array<shape=(1680, 680, 480), chunksize=(1, 680, 480)>\n",
       "    SIhsnow   (time, YC, XC) float32 dask.array<shape=(1680, 680, 480), chunksize=(1, 680, 480)>\n",
       "    SIuice    (time, YC, XG) float32 dask.array<shape=(1680, 680, 480), chunksize=(1, 680, 480)>\n",
       "    SIvice    (time, YG, XC) float32 dask.array<shape=(1680, 680, 480), chunksize=(1, 680, 480)>\n",
       "    Salt      (time, YC, XC) float32 dask.array<shape=(1680, 680, 480), chunksize=(1, 680, 480)>\n",
       "    Theta     (time, YC, XC) float32 dask.array<shape=(1680, 680, 480), chunksize=(1, 680, 480)>\n",
       "    U         (time, YC, XG) float32 dask.array<shape=(1680, 680, 480), chunksize=(1, 680, 480)>\n",
       "    V         (time, YG, XC) float32 dask.array<shape=(1680, 680, 480), chunksize=(1, 680, 480)>\n",
       "    W         (time, YC, XC) float32 dask.array<shape=(1680, 680, 480), chunksize=(1, 680, 480)>\n",
       "    iter      (time) int64 dask.array<shape=(1680,), chunksize=(1,)>\n",
       "    oceFWflx  (time, YC, XC) float32 dask.array<shape=(1680, 680, 480), chunksize=(1, 680, 480)>\n",
       "    oceQnet   (time, YC, XC) float32 dask.array<shape=(1680, 680, 480), chunksize=(1, 680, 480)>\n",
       "    oceQsw    (time, YC, XC) float32 dask.array<shape=(1680, 680, 480), chunksize=(1, 680, 480)>\n",
       "    oceSflux  (time, YC, XC) float32 dask.array<shape=(1680, 680, 480), chunksize=(1, 680, 480)>\n",
       "    oceTAUX   (time, YC, XG) float32 dask.array<shape=(1680, 680, 480), chunksize=(1, 680, 480)>\n",
       "    oceTAUY   (time, YG, XC) float32 dask.array<shape=(1680, 680, 480), chunksize=(1, 680, 480)>"
      ]
     },
     "execution_count": 7,
     "metadata": {},
     "output_type": "execute_result"
    }
   ],
   "source": [
    "ds"
   ]
  },
  {
   "cell_type": "code",
   "execution_count": null,
   "metadata": {},
   "outputs": [],
   "source": []
  },
  {
   "cell_type": "code",
   "execution_count": 13,
   "metadata": {},
   "outputs": [],
   "source": [
    "ds2 = ds.drop(['Zp1','Z','Zl','Zu',\n",
    "               'rA','rAw','rAs','rAz','dxG','dyG','Depth','PHrefF','PHrefC','drF','drC', \n",
    "              'hFacW','hFacS','hFacC','PhiBot','SIarea','SIheff','SIhsalt','SIhsnow','SIuice','SIvice',\n",
    "              'Salt','Theta','W','oceFWflx','oceQnet','oceQsw','oceSflux'])"
   ]
  },
  {
   "cell_type": "code",
   "execution_count": 14,
   "metadata": {},
   "outputs": [
    {
     "data": {
      "text/plain": [
       "<xarray.Dataset>\n",
       "Dimensions:  (XC: 480, XG: 480, YC: 680, YG: 680, time: 1680)\n",
       "Coordinates:\n",
       "  * YC       (YC) float32 -45.047726 -45.033997 -45.020264 -45.006527 ...\n",
       "  * YG       (YG) float32 -45.054592 -45.040863 -45.02713 -45.013397 ...\n",
       "  * XC       (XC) float32 5.03125 5.0520835 5.0729165 5.09375 5.1145835 ...\n",
       "  * XG       (XG) float32 5.0208335 5.0416665 5.0625 5.0833335 5.1041665 ...\n",
       "  * time     (time) float64 2.592e+05 2.628e+05 2.664e+05 2.7e+05 2.736e+05 ...\n",
       "Data variables:\n",
       "    face     (time) int64 1 1 1 1 1 1 1 1 1 1 1 1 1 1 1 1 1 1 1 1 1 1 1 1 1 ...\n",
       "    dxC      (YC, XG) float32 ...\n",
       "    dyC      (YG, XC) float32 ...\n",
       "    Eta      (time, YC, XC) float32 dask.array<shape=(1680, 680, 480), chunksize=(1, 680, 480)>\n",
       "    U        (time, YC, XG) float32 dask.array<shape=(1680, 680, 480), chunksize=(1, 680, 480)>\n",
       "    V        (time, YG, XC) float32 dask.array<shape=(1680, 680, 480), chunksize=(1, 680, 480)>\n",
       "    iter     (time) int64 dask.array<shape=(1680,), chunksize=(1,)>\n",
       "    oceTAUX  (time, YC, XG) float32 dask.array<shape=(1680, 680, 480), chunksize=(1, 680, 480)>\n",
       "    oceTAUY  (time, YG, XC) float32 dask.array<shape=(1680, 680, 480), chunksize=(1, 680, 480)>"
      ]
     },
     "execution_count": 14,
     "metadata": {},
     "output_type": "execute_result"
    }
   ],
   "source": [
    "ds2"
   ]
  },
  {
   "cell_type": "code",
   "execution_count": 15,
   "metadata": {},
   "outputs": [
    {
     "name": "stdout",
     "output_type": "stream",
     "text": [
      "[########################################] | 100% Completed |  1hr 38min 31.7s\n"
     ]
    }
   ],
   "source": [
    "with ProgressBar():\n",
    "    ds3 = ds2.load()"
   ]
  },
  {
   "cell_type": "markdown",
   "metadata": {},
   "source": [
    "# llc velocity analysis#\n",
    "\n",
    "## The Aim##\n",
    "The aim is to train a deep neural net to infer velocities from the Sea surface heights ($\\eta$) and Wind stress($\\tau_x$ and $\\tau_y$). The training dataset will be the high resolution model, We will then coarsegrain the model fields to get the lower resolution fields and use that as the testing data. The ultimate aim will be to get the velocity fields for Satellite altimetry. \n",
    "\n",
    "The hypothesis to be tested is the following:\n",
    "Can we train a Conv Neural Net to give velocity estimates from altimetry data to get a better signture of small scale (balanced/unbalanced motions) than geostrophy?\n",
    "\n",
    "## The present work##\n",
    "\n",
    "In this notebook we calculate the surface velocity from the llc4320 model output in the Agulhas sector and write down the formalism for calculating the surface geostrophic velocities from the SSH ($\\eta$) and the surface Ekman velocities from wind stress and the formalism for calculating the error.\n",
    "\n",
    "\n",
    "The total momentum equation can be written as:\n",
    "\n",
    "$$ \\frac{\\partial \\mathbf{u}}{\\partial t} + \\mathbf{u} \\cdot \\nabla \\mathbf{u} + f \\times \\mathbf{u} = -g \\nabla \\eta + \\mathbf{F}$$\n",
    "\n",
    "where $\\mathbf{F}$ is the frictional term\n",
    "\n",
    "Our traditional method involves splitting the surface flow into a geostrophic and an ageostrophic part as follows:\n",
    "\n",
    "$$\\mathbf{u} = \\mathbf{u_g} + \\mathbf{u_a}$$\n",
    "\n",
    "where the force balances are \n",
    "\n",
    "$$ f \\times \\mathbf{u_g} = -g \\nabla \\eta$$\n",
    "and\n",
    "$$ f \\times \\mathbf{u_a} = F$$\n",
    "\n"
   ]
  },
  {
   "cell_type": "markdown",
   "metadata": {},
   "source": [
    "# Geostrophic velocities#\n",
    "\n",
    "Geostrophic velocities are given by \n",
    "\n",
    "$$fv_{g} = g \\frac{\\partial \\eta}{\\partial x} $$\n",
    "\n",
    "$$fu_{g} = - g \\frac{\\partial \\eta}{\\partial y} $$\n",
    "\n",
    "\n",
    "\n",
    "# Ekman velocity #\n",
    "\n",
    "\n",
    "Under steady state conditions is can be shown that in the boundary layer of the upper ocean (order hundred meters) horizontal gradients are small compared to vertical gradients. Under these conditions, there is a balance between Coriolis and Friction.\n",
    "Friction in the upper layer is provided by the wind stress.\n",
    "\n",
    "$$ f v + \\frac{\\partial \\tau_x}{\\partial z} = 0$$\n",
    "\n",
    "$$ f u - \\frac{\\partial \\tau_y}{\\partial z} = 0$$ (1)\n",
    "\n",
    "and \n",
    "\n",
    "$$\\tau_x = \\rho A_z \\frac{\\partial u}{\\partial z}$$\n",
    "\n",
    "$$\\tau_y = \\rho A_z \\frac{\\partial v}{\\partial z}$$ (2)\n",
    "\n",
    "\n",
    "we write $[u,v]$ as a complex velocity as:\n",
    "$$ \\mathbf{u} = u + iv$$\n",
    "\n",
    "We also write $[\\tau_x, \\tau_y]$ as a complex wind stress as:\n",
    "$$ \\mathbf{\\tau} = \\tau_x + i \\tau_y$$\n",
    "\n",
    "This gives us \n",
    "$$ \\mathbf{u} = u + iv = (u,v)$$\n",
    "$$ \\mathbf{\\underline{u}} = -v + iu = (-v,u)$$\n",
    "\n",
    "$$ \\mathbf{\\tau} = \\tau_x + i\\tau_y = (\\tau_x,\\tau_y)$$\n",
    "$$ \\mathbf{\\underline{\\tau}} = -\\tau_y + i\\tau_x = (-\\tau_y,\\tau_x)$$\n",
    "\n",
    "therefore the above equations can be written as \n",
    "\n",
    "$$  f \\mathbf{u} = \\frac{\\partial }{\\partial z} \\mathbf{\\underline{\\tau}}$$\n",
    "\n",
    "$$ \\mathbf{\\tau} = \\rho A_z \\frac{\\partial \\mathbf{u}}{\\partial z} $$\n",
    "\n",
    "So now using equations (2)\n",
    "\n",
    "we re write the euqtions as\n",
    "\n",
    "$$ f \\mathbf{u}_{zz} = \\frac{ i f }{A_z} \\mathbf{u} $$\n",
    "\n",
    "In the Northern Hemisphere $f > 0$. So the general solution is\n",
    "\n",
    "$$ \\mathbf{u} = \\alpha_{+} e^{[(if/A_z)^{1/2}] z} + \\alpha_{-} e^{[-(if/A_z)^{1/2}] z} $$\n",
    "\n",
    "subject to the boundary conditions\n",
    "\n",
    "$$ A_z {(u + i v)}_z = \\tau_x^0 + i \\tau_y^0 $$ at $z = 0$\n",
    "\n",
    "and \n",
    "\n",
    "$$ (u + i v) = u_g + i v_g $$  at $z = -H$\n",
    "\n",
    "For the Northern Hemisphere ($f>0$), the solution is written as\n",
    "\n",
    "$$ \\mathbf{u} = \\alpha_{+} e^{[1+i] z/d} + \\alpha_{-} e^{-[1+i] z/d} $$\n",
    "\n",
    "Where the Ekman depth $d$ is\n",
    "\n",
    "$$ d = \\sqrt{\\frac{2 A_z}{|f|}}$$\n",
    "\n",
    "and $\\alpha_{+}$ and $\\alpha_{-}$ are complex coefficients. the $\\alpha_{+}$ part denotes the solution decaying away from the top and the $\\alpha_{-}$ denotes the solution decaying away from the bottom. For the surface Ekman velocities we are concerned with the $\\alpha_{+}$ part.\n",
    "\n",
    "For the Southern hemisphere the solution now becomes\n",
    "\n",
    "$$ \\mathbf{u} = \\alpha_{+} e^{[-1+i] z/d} + \\alpha_{-} e^{-[-1+i] z/d} $$\n",
    "\n",
    "Here now the $\\alpha_{-}$ part is the solution for the surface Ekman flow.\n",
    "\n",
    "### Northern Hemisphere ###\n",
    "To solve for $\\alpha_{+}$, plug in $\\mathbf{u}$ in the equation \n",
    "\n",
    "$$ \\mathbf{\\tau} = \\rho A_z \\frac{\\partial \\mathbf{u}}{\\partial z} $$\n",
    "\n",
    "This gives us at $z = 0$\n",
    "\n",
    "$$ \\alpha_{+} = \\frac{(\\tau_x +\\tau_y) d}{\\rho A_z (1+i)} = \\frac{(\\tau_x +\\tau_y) (1-i) d}{2 \\rho A_z }$$\n",
    "\n",
    "$$ \\implies \\alpha_{+} = \\frac{(\\mathbf{\\tau} - \\mathbf{\\underline{\\tau}}) d}{2 \\rho A_z}$$\n",
    "\n",
    "So, we have\n",
    "\n",
    "$$ u_{e} + i v_{e} = \\frac{d}{2 \\rho A_z} \\left[ (\\tau_x + i\\tau_y) - (-\\tau_y + i\\tau_x)\\right]$$\n",
    "\n",
    "$$ \\implies u_{e} = \\frac{1}{\\rho \\sqrt{2 A_z |f|}} (\\tau_x + \\tau_y)$$\n",
    "$$ \\implies v_{e} = \\frac{1}{\\rho \\sqrt{2 A_z |f|}} (-\\tau_x + \\tau_y)$$\n",
    "\n",
    "\n",
    "\n",
    "### Southern Hemisphere ###\n",
    "\n",
    "Doing the similar procedure in the Southern Hemisphere we get\n",
    "\n",
    "$$ \\implies \\alpha_{-} = \\frac{(\\mathbf{\\tau} + \\mathbf{\\underline{\\tau}}) d}{2 \\rho A_z}$$\n",
    "\n",
    "\n",
    "So, we have\n",
    "\n",
    "$$ u_{e} + i v_{e} = \\frac{d}{2 \\rho A_z} \\left[ (\\tau_x + i\\tau_y) + (-\\tau_y + i\\tau_x)\\right]$$\n",
    "\n",
    "$$ \\implies u_{e} = \\frac{1}{\\rho \\sqrt{2 A_z |f|}} (\\tau_x - \\tau_y)$$\n",
    "$$ \\implies v_{e} = \\frac{1}{\\rho \\sqrt{2 A_z |f|}} (\\tau_x + \\tau_y)$$\n",
    " \n",
    "\n"
   ]
  },
  {
   "cell_type": "markdown",
   "metadata": {},
   "source": [
    "# Linear Regression #\n",
    "\n",
    "For the first exercise, we aim to fit a multiple linear regression. For our black box therefore the input variables are $\\left[x_{i1}, ... , x_{ip}\\right]_{i=1}^{n}$, n being the number of samples, and p being the number of features. We can represent the linear regression problem as $u_i = \\beta_0 1 + \\beta_1 x_{i1} + ... + \\beta_p x_{ip} + \\epsilon_i$.\n",
    "\n",
    "$$\n",
    "X=\n",
    "  \\begin{bmatrix}\n",
    "    1 & x_{11} & x_{12} ...  & x_{1p} \\\\\n",
    "    1 & x_{21} & x_{22} ...  & x_{2p} \\\\\n",
    "    .. & ..  & .... &...\\\\\n",
    "    1 & x_{n1} & x_{n2} ...  & x_{np}\n",
    "  \\end{bmatrix}\n",
    "$$\n",
    "\n",
    "or \n",
    "\n",
    "$$\n",
    "X = \\begin{bmatrix}\n",
    "    x_1^T \\\\\n",
    "    x_2^T \\\\\n",
    "    .. \\\\\n",
    "    x_n^T\n",
    "  \\end{bmatrix}\n",
    "$$\n",
    "\n",
    "and \n",
    "\n",
    "$$\n",
    "\\beta = \\begin{bmatrix}\n",
    "    \\beta_0 \\\\\n",
    "    \\beta_1 \\\\\n",
    "    .. \\\\\n",
    "    \\beta_p\n",
    "  \\end{bmatrix}\n",
    "$$\n",
    "\n",
    "$$\n",
    "U= \\begin{bmatrix}\n",
    "    u_0 \\\\\n",
    "    u_1 \\\\\n",
    "    .. \\\\\n",
    "    u_n\n",
    "  \\end{bmatrix}\n",
    "$$\n",
    "\n",
    "$$\n",
    "\\epsilon = \\begin{bmatrix}\n",
    "    \\epsilon_0 \\\\\n",
    "    \\epsilon_1 \\\\\n",
    "    .. \\\\\n",
    "    \\epsilon_n\n",
    "  \\end{bmatrix}\n",
    "$$\n",
    "\n",
    "For our example our 9 features (variables) are $[f, \\tau_x,\\tau_y, \\eta_{x+}, \\eta_{x-}, \\eta_{y+}, \\eta_{y-}, \\frac{1}{dx}, \\frac{1}{dy}]$ .\n",
    "\n",
    "where $U$ and $\\beta$ are complex valued. For vectorization we consider them to have 2 columns each\n",
    "\n",
    "$$\n",
    "U = \\begin{bmatrix}\n",
    "    u_1 & v_1\\\\\n",
    "    u_2 & v_2\\\\\n",
    "    .. \\\\\n",
    "    u_n & v_n\n",
    "  \\end{bmatrix}\n",
    "$$\n",
    "\n",
    "and \n",
    "\n",
    "$$\n",
    "\\beta = \\begin{bmatrix}\n",
    "        \\beta_{0r} & \\beta_{0i}\\\\\n",
    "        \\beta_{1r} & \\beta_{1i}\\\\\n",
    "        .. \\\\\n",
    "        \\beta_{pr} & \\beta_{pi}\n",
    "  \\end{bmatrix}\n",
    "$$\n",
    "\n",
    "Our linear regression problem is therefore \n",
    "$$\n",
    "\\underbrace{\\begin{bmatrix}\n",
    "    u_1 & v_1\\\\\n",
    "    u_2 & v_2\\\\\n",
    "    .. \\\\\n",
    "    u_n & v_n\n",
    "  \\end{bmatrix}}_{u = [n (samples) \\times 2]} =\n",
    "  \\underbrace{\\begin{bmatrix}\n",
    "    1 & x_{11} & x_{12} ...  & x_{19} \\\\\n",
    "    1 & x_{21} & x_{22} ...  & x_{29} \\\\\n",
    "    .. & ..  & .... &...\\\\\n",
    "    1 & x_{n1} & x_{n2} ...  & x_{n9}\n",
    "  \\end{bmatrix}}_{X = \\left[n (samples) \\times [9(features)+1]\\right]} \n",
    "  \\cdot\n",
    "  \\underbrace{\\begin{bmatrix}\n",
    "        \\beta_{0r} & \\beta_{0i}\\\\\n",
    "        \\beta_{1r} & \\beta_{1i}\\\\\n",
    "        .. \\\\\n",
    "        \\beta_{9r} & \\beta_{9i}\n",
    "  \\end{bmatrix}}_{\\beta = \\left[[9(coefficients)+1(intercept)] \\times 2\\right]}\n",
    "$$\n",
    "\n",
    "here $[\\beta_1, ..., \\beta_9]$ are the coefficients and $\\beta_0$ is the intercept."
   ]
  },
  {
   "cell_type": "code",
   "execution_count": 28,
   "metadata": {},
   "outputs": [],
   "source": [
    "utest = (grid.interp(ds3.U, 'X', boundary='extend')).isel(XC=slice(1,-1), YC=slice(1,-1))"
   ]
  },
  {
   "cell_type": "code",
   "execution_count": 29,
   "metadata": {},
   "outputs": [
    {
     "data": {
      "text/plain": [
       "<xarray.DataArray (time: 1680, YC: 678, XC: 478)>\n",
       "array([[[ 0.086156,  0.088829, ...,  0.061637,  0.059877],\n",
       "        [ 0.082632,  0.085912, ...,  0.062075,  0.062684],\n",
       "        ...,\n",
       "        [ 0.010902,  0.000868, ...,  0.122118,  0.093484],\n",
       "        [ 0.009129,  0.005507, ...,  0.108912,  0.104007]],\n",
       "\n",
       "       [[ 0.073341,  0.075224, ..., -0.006776, -0.007682],\n",
       "        [ 0.066512,  0.067344, ..., -0.009057, -0.007839],\n",
       "        ...,\n",
       "        [ 0.027807,  0.010653, ...,  0.137377,  0.098379],\n",
       "        [ 0.025119,  0.014287, ...,  0.128164,  0.112167]],\n",
       "\n",
       "       ...,\n",
       "\n",
       "       [[ 0.235591,  0.233456, ...,  0.155558,  0.152526],\n",
       "        [ 0.241239,  0.240167, ...,  0.139357,  0.134763],\n",
       "        ...,\n",
       "        [ 0.13092 ,  0.127579, ...,  0.370904,  0.376991],\n",
       "        [ 0.116495,  0.114957, ...,  0.385301,  0.388683]],\n",
       "\n",
       "       [[ 0.218607,  0.205631, ...,  0.14934 ,  0.151077],\n",
       "        [ 0.217066,  0.206182, ...,  0.134799,  0.134606],\n",
       "        ...,\n",
       "        [ 0.164918,  0.161091, ...,  0.364046,  0.363009],\n",
       "        [ 0.152685,  0.148081, ...,  0.379947,  0.374376]]], dtype=float32)\n",
       "Coordinates:\n",
       "  * time     (time) float64 2.592e+05 2.628e+05 2.664e+05 2.7e+05 2.736e+05 ...\n",
       "  * YC       (YC) float32 -45.033997 -45.020264 -45.006527 -44.99279 ...\n",
       "  * XC       (XC) float32 5.0520835 5.0729165 5.09375 5.1145835 5.1354165 ..."
      ]
     },
     "execution_count": 29,
     "metadata": {},
     "output_type": "execute_result"
    }
   ],
   "source": [
    "utest"
   ]
  },
  {
   "cell_type": "code",
   "execution_count": 17,
   "metadata": {},
   "outputs": [],
   "source": [
    "with ProgressBar():\n",
    "    u = (grid.interp(ds3.U, 'X', boundary='extend')).isel(XC=slice(1,-1), YC=slice(1,-1)).values\n",
    "    v = (grid.interp(ds3.V, 'Y', boundary='extend')).isel(XC=slice(1,-1), YC=slice(1,-1)).values\n",
    "\n",
    "    tau_x = (grid.interp(ds3.oceTAUX, 'X', boundary='extend')).isel(XC=slice(1,-1), YC=slice(1,-1)).values\n",
    "    tau_y = (grid.interp(ds3.oceTAUY, 'Y', boundary='extend')).isel(XC=slice(1,-1), YC=slice(1,-1)).values\n",
    "\n",
    "    eta_xp = ds3.Eta.roll(XC=-1).isel(XC=slice(1,-1), YC=slice(1,-1)).values\n",
    "    eta_xm = ds3.Eta.roll(XC=1).isel(XC=slice(1,-1), YC=slice(1,-1)).values\n",
    "    eta_yp = ds3.Eta.roll(YC=-1).isel(XC=slice(1,-1), YC=slice(1,-1)).values\n",
    "    eta_ym = ds3.Eta.roll(YC=1).isel(XC=slice(1,-1), YC=slice(1,-1)).values\n"
   ]
  },
  {
   "cell_type": "code",
   "execution_count": 27,
   "metadata": {},
   "outputs": [
    {
     "data": {
      "text/plain": [
       "((1680, 678, 478), (1680, 678, 478))"
      ]
     },
     "execution_count": 27,
     "metadata": {},
     "output_type": "execute_result"
    }
   ],
   "source": [
    "u.shape, v.shape"
   ]
  },
  {
   "cell_type": "code",
   "execution_count": 21,
   "metadata": {},
   "outputs": [],
   "source": [
    "inv_dx_val = np.zeros_like(u, np.float32)\n",
    "inv_dy_val = np.zeros_like(u, np.float32)\n",
    "\n",
    "inv_dx_val[:] = ((1.0/(grid.interp(ds.dxC, 'X', boundary='extend'))).isel(XC=slice(1,-1), YC=slice(1,-1), drop=True)).values\n",
    "inv_dy_val[:] = ((1.0/(grid.interp(ds.dyC, 'Y', boundary='extend'))).isel(XC=slice(1,-1), YC=slice(1,-1), drop=True)).values\n",
    "\n",
    "Om = 7.2921e-5\n",
    "f_c = np.abs(2 * Om * np.sin(np.deg2rad(ds.YC.isel(YC=slice(1,-1), drop=True)))).values\n",
    "\n",
    "f_val = np.zeros_like(u, np.float32)\n",
    "f_val[:] = f_c[np.newaxis,:,np.newaxis]"
   ]
  },
  {
   "cell_type": "code",
   "execution_count": 30,
   "metadata": {},
   "outputs": [],
   "source": [
    "U = xr.DataArray(u,\n",
    "                 {'time': utest.time.values,\n",
    "                  'YC': utest.YC.values,\n",
    "                  'XC': utest.XC.values},\n",
    "                 ('time', 'YC', 'XC'))\n",
    "\n",
    "V = xr.DataArray(v,\n",
    "                 {'time': utest.time.values,\n",
    "                  'YC': utest.YC.values,\n",
    "                  'XC': utest.XC.values},\n",
    "                 ('time', 'YC', 'XC'))\n",
    "\n",
    "Tau_x = xr.DataArray(tau_x,\n",
    "                 {'time': utest.time.values,\n",
    "                  'YC': utest.YC.values,\n",
    "                  'XC': utest.XC.values},\n",
    "                 ('time', 'YC', 'XC'))\n",
    "\n",
    "Tau_y = xr.DataArray(tau_y,\n",
    "                 {'time': utest.time.values,\n",
    "                  'YC': utest.YC.values,\n",
    "                  'XC': utest.XC.values},\n",
    "                 ('time', 'YC', 'XC'))\n",
    "\n",
    "Eta_xp = xr.DataArray(eta_xp,\n",
    "                 {'time': utest.time.values,\n",
    "                  'YC': utest.YC.values,\n",
    "                  'XC': utest.XC.values},\n",
    "                 ('time', 'YC', 'XC'))\n",
    "\n",
    "Eta_xm = xr.DataArray(eta_xm,\n",
    "                 {'time': utest.time.values,\n",
    "                  'YC': utest.YC.values,\n",
    "                  'XC': utest.XC.values},\n",
    "                 ('time', 'YC', 'XC'))\n",
    "\n",
    "Eta_yp = xr.DataArray(eta_yp,\n",
    "                 {'time': utest.time.values,\n",
    "                  'YC': utest.YC.values,\n",
    "                  'XC': utest.XC.values},\n",
    "                 ('time', 'YC', 'XC'))\n",
    "\n",
    "Eta_ym = xr.DataArray(eta_ym,\n",
    "                 {'time': utest.time.values,\n",
    "                  'YC': utest.YC.values,\n",
    "                  'XC': utest.XC.values},\n",
    "                 ('time', 'YC', 'XC'))\n",
    "\n",
    "f = xr.DataArray(f_val,\n",
    "                 {'time': utest.time.values,\n",
    "                  'YC': utest.YC.values,\n",
    "                  'XC': utest.XC.values},\n",
    "                 ('time', 'YC', 'XC'))\n",
    "\n",
    "inv_delx = xr.DataArray(inv_dx_val,\n",
    "                 {'time': utest.time.values,\n",
    "                  'YC': utest.YC.values,\n",
    "                  'XC': utest.XC.values},\n",
    "                 ('time', 'YC', 'XC'))\n",
    "\n",
    "inv_dely = xr.DataArray(inv_dy_val,\n",
    "                 {'time': utest.time.values,\n",
    "                  'YC': utest.YC.values,\n",
    "                  'XC': utest.XC.values},\n",
    "                 ('time', 'YC', 'XC'))"
   ]
  },
  {
   "cell_type": "code",
   "execution_count": 31,
   "metadata": {},
   "outputs": [
    {
     "data": {
      "text/plain": [
       "<xarray.DataArray (time: 1680, YC: 678, XC: 478)>\n",
       "array([[[ 0.086156,  0.088829, ...,  0.061637,  0.059877],\n",
       "        [ 0.082632,  0.085912, ...,  0.062075,  0.062684],\n",
       "        ...,\n",
       "        [ 0.010902,  0.000868, ...,  0.122118,  0.093484],\n",
       "        [ 0.009129,  0.005507, ...,  0.108912,  0.104007]],\n",
       "\n",
       "       [[ 0.073341,  0.075224, ..., -0.006776, -0.007682],\n",
       "        [ 0.066512,  0.067344, ..., -0.009057, -0.007839],\n",
       "        ...,\n",
       "        [ 0.027807,  0.010653, ...,  0.137377,  0.098379],\n",
       "        [ 0.025119,  0.014287, ...,  0.128164,  0.112167]],\n",
       "\n",
       "       ...,\n",
       "\n",
       "       [[ 0.235591,  0.233456, ...,  0.155558,  0.152526],\n",
       "        [ 0.241239,  0.240167, ...,  0.139357,  0.134763],\n",
       "        ...,\n",
       "        [ 0.13092 ,  0.127579, ...,  0.370904,  0.376991],\n",
       "        [ 0.116495,  0.114957, ...,  0.385301,  0.388683]],\n",
       "\n",
       "       [[ 0.218607,  0.205631, ...,  0.14934 ,  0.151077],\n",
       "        [ 0.217066,  0.206182, ...,  0.134799,  0.134606],\n",
       "        ...,\n",
       "        [ 0.164918,  0.161091, ...,  0.364046,  0.363009],\n",
       "        [ 0.152685,  0.148081, ...,  0.379947,  0.374376]]], dtype=float32)\n",
       "Coordinates:\n",
       "  * time     (time) float64 2.592e+05 2.628e+05 2.664e+05 2.7e+05 2.736e+05 ...\n",
       "  * YC       (YC) float32 -45.033997 -45.020264 -45.006527 -44.99279 ...\n",
       "  * XC       (XC) float32 5.0520835 5.0729165 5.09375 5.1145835 5.1354165 ..."
      ]
     },
     "execution_count": 31,
     "metadata": {},
     "output_type": "execute_result"
    }
   ],
   "source": [
    "U"
   ]
  },
  {
   "cell_type": "code",
   "execution_count": 32,
   "metadata": {
    "collapsed": true
   },
   "outputs": [],
   "source": [
    "Eta_xp_ds = Eta_xp.to_dataset(name='eta_x_p')\n",
    "Eta_xm_ds = Eta_xm.to_dataset(name='eta_x_m')\n",
    "Eta_yp_ds = Eta_yp.to_dataset(name='eta_y_p')\n",
    "Eta_ym_ds = Eta_ym.to_dataset(name='eta_y_m')\n",
    "\n",
    "U_ds = U.to_dataset(name='U')\n",
    "V_ds = V.to_dataset(name='V')\n",
    "\n",
    "f_ds = f.to_dataset(name='f')\n",
    "inv_dX_ds = inv_delx.to_dataset(name='inv_DX')\n",
    "inv_dY_ds = inv_dely.to_dataset(name='inv_DY')\n",
    "\n",
    "tau_X_ds = Tau_x.to_dataset(name='tau_x')\n",
    "tau_Y_ds = Tau_x.to_dataset(name='tau_y')\n"
   ]
  },
  {
   "cell_type": "code",
   "execution_count": 33,
   "metadata": {
    "collapsed": true
   },
   "outputs": [],
   "source": [
    "test_data2 = xr.merge([f_ds, tau_X_ds, tau_Y_ds, Eta_xp_ds, Eta_xm_ds, Eta_yp_ds, Eta_ym_ds, inv_dX_ds, inv_dY_ds, U_ds, V_ds ])"
   ]
  },
  {
   "cell_type": "code",
   "execution_count": 34,
   "metadata": {},
   "outputs": [],
   "source": [
    "outdir = '/swot/SUM02/analysis_ml_llc_agulhas/'\n",
    "test_data2.to_netcdf(path=outdir +'Dataset_70days_10degbox.nc', engine='scipy')"
   ]
  },
  {
   "cell_type": "code",
   "execution_count": null,
   "metadata": {},
   "outputs": [],
   "source": []
  }
 ],
 "metadata": {
  "anaconda-cloud": {},
  "kernelspec": {
   "display_name": "Python 3 (pangeo) ",
   "language": "python",
   "name": "pangeo"
  },
  "language_info": {
   "codemirror_mode": {
    "name": "ipython",
    "version": 3
   },
   "file_extension": ".py",
   "mimetype": "text/x-python",
   "name": "python",
   "nbconvert_exporter": "python",
   "pygments_lexer": "ipython3",
   "version": "3.6.4"
  }
 },
 "nbformat": 4,
 "nbformat_minor": 2
}
